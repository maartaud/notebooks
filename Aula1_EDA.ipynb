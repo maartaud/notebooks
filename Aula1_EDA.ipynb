{
 "cells": [
  {
   "cell_type": "code",
   "execution_count": 1,
   "metadata": {},
   "outputs": [],
   "source": [
    "# importando as bibliotecas do Python que serão usadas\n",
    "import numpy as np\n",
    "import matplotlib.pyplot as plt\n",
    "import pandas as pd\n",
    "import scipy.stats"
   ]
  },
  {
   "cell_type": "markdown",
   "metadata": {},
   "source": [
    "# Análise Exploratória de Dados (EDA)"
   ]
  },
  {
   "cell_type": "code",
   "execution_count": 5,
   "metadata": {},
   "outputs": [
    {
     "name": "stdout",
     "output_type": "stream",
     "text": [
      "amostra 1: [21, 22, 25, 21, 22, 24, 24, 23, 25]\n",
      "amostra 2: [21, 22, 25, 21, 22, 24, 24, 23, 89]\n"
     ]
    }
   ],
   "source": [
    "# criando duas amostras, diferentes apenas no último elemento\n",
    "amostra1 = [21,22,25,21,22,24,24,23,25]\n",
    "amostra2 = [21,22,25,21,22,24,24,23,89]\n",
    "n = 9 # número de elementos nas amostras\n",
    "\n",
    "print('amostra 1:', amostra1)\n",
    "print('amostra 2:', amostra2)"
   ]
  },
  {
   "cell_type": "markdown",
   "metadata": {},
   "source": [
    "## 1. Medidas de tendência central\n",
    "### 1.1 Média"
   ]
  },
  {
   "cell_type": "code",
   "execution_count": 6,
   "metadata": {},
   "outputs": [
    {
     "name": "stdout",
     "output_type": "stream",
     "text": [
      "- media amostra 1: 23.0\n",
      "- media amostra 2: 30.1\n",
      "(obs: notem a diferença na média)\n"
     ]
    }
   ],
   "source": [
    "# extraindo as médias de cada amostra:\n",
    "media1 = (21+22+25+21+22+24+24+23+25)/n\n",
    "media2 = (21+22+25+21+22+24+24+23+89)/n\n",
    "\n",
    "print('- media amostra 1:', media1)\n",
    "print('- media amostra 2:', np.round(media2,1))\n",
    "print('(obs: notem a diferença na média)')"
   ]
  },
  {
   "cell_type": "markdown",
   "metadata": {},
   "source": [
    "### 1.2 Mediana\n",
    "\n",
    "<img src='imagens/2.png' width=\"400\" height=\"200\" align=\"left\">"
   ]
  },
  {
   "cell_type": "code",
   "execution_count": 7,
   "metadata": {
    "scrolled": true
   },
   "outputs": [
    {
     "name": "stdout",
     "output_type": "stream",
     "text": [
      "- mediana amostra 1: 23\n",
      "- mediana amostra 2: 23\n",
      "- mediana amostra 3: 23.5\n",
      "- mediana amostra 4: 23.5\n",
      "(obs: notem que os valores extremos existentes não alteraram o valor das medianas entre as amostras 1-2 e 3-4)\n"
     ]
    }
   ],
   "source": [
    "# Pra calcular a mediana das amostras, o primeiro passo é colocá-las em ordem crescente:\n",
    "amostra1 = [21,21,22,22,23,24,24,25,25]\n",
    "amostra2 = [21,21,22,22,23,24,24,25,89]\n",
    "\n",
    "# Extraindo as medianas:\n",
    "# obs: nossas amostras possuem valor de 'n' ímpares, portanto:\n",
    "\n",
    "mediana1 = 23\n",
    "mediana2 = 23\n",
    "\n",
    "# Caso nossas amostras tivessem 10 elementos cada ('n' seria par), teríamos:\n",
    "amostra3 = [21,21,22,22,23,24,24,25,25,26]\n",
    "amostra4 = [21,21,22,22,23,24,24,25,26,89]\n",
    "\n",
    "# Se fizermos n/2 e (n/2)+1 conforme a fórmula, obteríamos 5 e 6 respectivamente. \n",
    "# Essas são as posições dos elementos na amostra que a divide em duas partes iguais.\n",
    "\n",
    "# Na amostra 3, as posições 5 e 6 são os valores 23 e 24, respectivamente.\n",
    "# Na amostra 4, as posições 5 e 6 são esses mesmos valores.\n",
    "# Logo:\n",
    "\n",
    "mediana3 = (23+24)/2\n",
    "mediana4 = (23+24)/2\n",
    "\n",
    "print('- mediana amostra 1:', mediana1)\n",
    "print('- mediana amostra 2:', mediana2)\n",
    "print('- mediana amostra 3:', mediana3)\n",
    "print('- mediana amostra 4:', mediana4)\n",
    "print('(obs: notem que os valores extremos existentes não alteraram o valor das medianas entre as amostras 1-2 e 3-4)')"
   ]
  },
  {
   "cell_type": "code",
   "execution_count": 8,
   "metadata": {
    "scrolled": true
   },
   "outputs": [
    {
     "name": "stdout",
     "output_type": "stream",
     "text": [
      "- media amostra 1: 23.0\n",
      "- media amostra 2: 30.1\n",
      "- mediana amostra 1: 23.0\n",
      "- mediana amostra 2: 23.0\n",
      "- mediana amostra 3: 23.5\n",
      "- mediana amostra 4: 23.5\n"
     ]
    }
   ],
   "source": [
    "# Poderíamos calcular todas essas medidas automaticamente de acordo com cada linguagem de programação e suas bibliotecas.\n",
    "# Utilizando a biblioteca Numpy do Python, ficaria assim:\n",
    "\n",
    "media1 = np.mean(amostra1)\n",
    "media2 = np.mean(amostra2)\n",
    "\n",
    "mediana1 = np.median(amostra1)\n",
    "mediana2 = np.median(amostra2)\n",
    "mediana3 = np.median(amostra3)\n",
    "mediana4 = np.median(amostra4)\n",
    "\n",
    "print('- media amostra 1:', media1)\n",
    "print('- media amostra 2:', np.round(media2,1))\n",
    "print('- mediana amostra 1:', mediana1)\n",
    "print('- mediana amostra 2:', mediana2)\n",
    "print('- mediana amostra 3:', mediana3)\n",
    "print('- mediana amostra 4:', mediana4)"
   ]
  },
  {
   "cell_type": "markdown",
   "metadata": {},
   "source": [
    "## 2. Medidas de dispersão\n",
    "### 2.1 Desvio-padrão e variância\n",
    "\n",
    "<img src='imagens/desvio.png' width=\"300\" height=\"150\" align=\"left\">"
   ]
  },
  {
   "cell_type": "code",
   "execution_count": 9,
   "metadata": {
    "scrolled": true
   },
   "outputs": [
    {
     "name": "stdout",
     "output_type": "stream",
     "text": [
      "- desvio-padrão amostra 1: 1.6\n",
      "- desvio-padrão amostra 2: 22.1\n",
      "- variância amostra 1: 2.5\n",
      "- variância amostra 2: 489.6\n",
      "(obs: notem a diferença dos valores de dispersão entre as amostras!)\n"
     ]
    }
   ],
   "source": [
    "s_amostra1 = np.std(amostra1, ddof=1)\n",
    "s_amostra2 = np.std(amostra2, ddof=1)\n",
    "\n",
    "# a variância é apenas o desvio-padrão elevado ao quadrado:\n",
    "var_amostra1 = s_amostra1**2\n",
    "var_amostra2 = s_amostra2**2\n",
    "\n",
    "print('- desvio-padrão amostra 1:', np.round(s_amostra1,1))\n",
    "print('- desvio-padrão amostra 2:', np.round(s_amostra2,1))\n",
    "print('- variância amostra 1:', np.round(var_amostra1,1))\n",
    "print('- variância amostra 2:', np.round(var_amostra2,1))\n",
    "print('(obs: notem a diferença dos valores de dispersão entre as amostras!)')"
   ]
  },
  {
   "cell_type": "markdown",
   "metadata": {},
   "source": [
    "### 2.2 Intervalo Interquartil\n",
    "\n",
    "<img src='imagens/iqr.png' width=\"300\" height=\"150\" align='left'> <img src='http://sweet.ua.pt/pedrocruz/bioestatistica/_images/aed-pdf-111.png' width=\"300\" height=\"150\">"
   ]
  },
  {
   "cell_type": "code",
   "execution_count": 26,
   "metadata": {},
   "outputs": [
    {
     "name": "stdout",
     "output_type": "stream",
     "text": [
      "- Q1 amostra 1 = 22\n",
      "- Q3 amostra 1 = 24\n",
      "- Q1 amostra 2 = 22\n",
      "- Q3 amostra 2 = 24\n"
     ]
    }
   ],
   "source": [
    "# O q0.75 (também nomeada de Q3) é o valor que separa os últimos 25% dos dados da amostra do restante,\n",
    "# ou seja, o último quarto da amostra.\n",
    "\n",
    "# O q0.25 (também nomeada de Q1) é o valor que separa os primeiros 25% dos dados da amostra do restante,\n",
    "# ou seja, o primeiro quarto da amostra.\n",
    "\n",
    "# A mediana é tambem chamada de q0.5, porque divide 50% dos dados dos outros 50%.\n",
    "# Podemos entender também que o q0.75 e o q0.25 nada mais são do que uma mediana da mediana principal (ou q0.5).\n",
    "\n",
    "# Na prática, calculando nas nossas amostras de 9 elementos:\n",
    "\n",
    "amostra1 = [21,21,22,22,23,24,24,25,25] \n",
    "amostra2 = [21,21,22,22,23,24,24,25,89]\n",
    "# ambas as medianas (q0.5) estão na 5° posição das amostras, que nos dá o valor 23.\n",
    "# q0.25 (ou Q1) é a mediana entre o primeiro elemento (valor 21) e q0.5 (valor 23), que nos dá o valor 22\n",
    "# q0.75 (ou Q3) é a mediana entre q0.5 (valor 23) e o último elemento da amostra (valor 97), que nos dá o valor 24\n",
    "\n",
    "Q1_amostra1 = 22\n",
    "Q3_amostra1 = 24\n",
    "\n",
    "Q1_amostra2 = 22\n",
    "Q3_amostra2 = 24\n",
    "\n",
    "print('- Q1 amostra 1 =',Q1_amostra1)\n",
    "print('- Q3 amostra 1 =',Q3_amostra1)\n",
    "print('- Q1 amostra 2 =',Q1_amostra2)\n",
    "print('- Q3 amostra 2 =',Q3_amostra2)"
   ]
  },
  {
   "cell_type": "code",
   "execution_count": 27,
   "metadata": {
    "scrolled": true
   },
   "outputs": [
    {
     "name": "stdout",
     "output_type": "stream",
     "text": [
      "- IQR amostra 1 = 2\n",
      "- IQR amostra 2 = 2\n",
      "(obs: percebam que diferente do desvio-padrão e variância, o IQR é uma medida de dispersão que não é afetada pelos valores extremos anômalos. Ambas as amostras deram o mesmo valor de IQR)\n"
     ]
    }
   ],
   "source": [
    "# Agora calculando o intervalo interquartil (IQR):\n",
    "IQR_amostra1 = Q3_amostra1 - Q1_amostra1\n",
    "IQR_amostra2 = Q3_amostra2 - Q1_amostra2\n",
    "\n",
    "print('- IQR amostra 1 =',IQR_amostra1)\n",
    "print('- IQR amostra 2 =',IQR_amostra2)\n",
    "print('(obs: percebam que diferente do desvio-padrão e variância, o IQR é uma medida de dispersão que não é afetada pelos valores extremos anômalos. Ambas as amostras deram o mesmo valor de IQR)')"
   ]
  },
  {
   "cell_type": "markdown",
   "metadata": {},
   "source": [
    "#### O IQR nos dá uma ideia da dispersão dos 50% valores centrais do conjunto de dados. Como ele ignora os primeiros e últimos 25% dos dados, o IQR é resistente a outliers."
   ]
  },
  {
   "cell_type": "markdown",
   "metadata": {},
   "source": [
    "# Visualização dos dados:\n",
    "# - Boxplot\n",
    "\n",
    "<img src='imagens/boxtemp.png' width=\"400\" height=\"200\" align='left'>\n",
    "<img src='imagens/boxplot.png' width=\"470\" height=\"200\" align=\"right\">\n"
   ]
  },
  {
   "cell_type": "markdown",
   "metadata": {},
   "source": [
    "### - Permite uma visualização rápida da distribuição de um conjunto de dados\n",
    "- Tendência central\n",
    "- Dispersão\n",
    "- Simetria\n",
    "\n",
    "### - É composto de 5 elementos:\n",
    "***\n",
    "1. Valor mínimo (menor valor encontrado nos dados)\n",
    "2. Primeiro quartil = Q1 ou q0.25\n",
    "3. Mediana = Q2 ou q0.5\n",
    "4. Terceiro quartil (valor que separa os primeiros 75% dos dados do restante) = Q3 ou q0.75\n",
    "5. Valor máximo (maior valor encontrado nos dados)\n",
    "***\n"
   ]
  },
  {
   "cell_type": "markdown",
   "metadata": {},
   "source": [
    "# Construindo um boxplot do zero:\n",
    "\n",
    "Siga os passos:\n",
    "1) Ordenar o conjunto de dados do menor para o maior valor<br>\n",
    "2) Calcular a mediana e os quartis Q1 e Q3 <br>\n",
    "3) Calcular o IQR e determinar os whiskers superior e inferior <br>\n",
    "- <span style='background:yellow'>Obs:</span>\n",
    "Em tese o comprimento dos whiskers são determinados pelos valores máximos e mínimos do conjunto de dados. No entanto, os whiskers não nos permitem visualizar a distribuição dos dados dentro do seu comprimento, ou seja, entre o Q3 e o valor maximo da amostra e entre Q1 e o valor mínimo. Dessa forma, não sabemos se os valores máximos e mínimos do conjunto são valores atípicos (outliers) ou não. Para contornar isso, se padronizou plotar os valores que sao considerados outliers (se existirem) separadamente.\n",
    "\n",
    "- <span style='background:yellow'>Mas como se determina se um valor é um outlier ou não?</span>\n",
    "\n",
    "- O que define um valor da amostra ser considerado um outlier é a distância desse valor em relação ao Q3 ou Q1.\n",
    "- Essas distâncias são calculadas da seguinte maneira, respectivamente:\n",
    "\n",
    "<img src='imagens/22.png' width=\"490\" height=\"200\" align=\"right\"> \n",
    "<img src='imagens/lower.png' width=\"420\" height=\"300\" align='left'>"
   ]
  },
  {
   "cell_type": "code",
   "execution_count": 29,
   "metadata": {},
   "outputs": [
    {
     "name": "stdout",
     "output_type": "stream",
     "text": [
      "Upper inner fence amostra 1 = 27.0\n",
      "Lower inner fence amostra 1 = 19.0\n",
      "Upper inner fence amostra 2 = 27.0\n",
      "Lower inner fence amostra 2 = 19.0\n"
     ]
    }
   ],
   "source": [
    "amostra1_upperfence = Q3_amostra1 + (3/2)*IQR_amostra1\n",
    "amostra1_lowerfence = Q1_amostra1 - (3/2)*IQR_amostra1\n",
    "\n",
    "amostra2_upperfence = Q3_amostra2 + (3/2)*IQR_amostra2\n",
    "amostra2_lowerfence = Q1_amostra2 - (3/2)*IQR_amostra2\n",
    "\n",
    "print('Upper inner fence amostra 1 =',amostra1_upperfence)\n",
    "print('Lower inner fence amostra 1 =',amostra1_lowerfence)\n",
    "print('Upper inner fence amostra 2 =',amostra2_upperfence)\n",
    "print('Lower inner fence amostra 2 =',amostra2_lowerfence)"
   ]
  },
  {
   "cell_type": "markdown",
   "metadata": {},
   "source": [
    "### - se o valor máximo da amostra for maior que o Upper inner fence calculado, então o valor é um outlier\n",
    "### - se o valor mínimo da amostra for menor que o  Lower inner fence calculado, então o valor é um outlier"
   ]
  },
  {
   "cell_type": "code",
   "execution_count": 31,
   "metadata": {
    "scrolled": true
   },
   "outputs": [
    {
     "data": {
      "image/png": "[encoded data removed]",
      "text/plain": [
       "<Figure size 720x288 with 1 Axes>"
      ]
     },
     "metadata": {
      "needs_background": "light"
     },
     "output_type": "display_data"
    }
   ],
   "source": [
    "fig, ax = plt.subplots(1,1,figsize=(10,4))\n",
    "box_amostra1 = ax.boxplot(amostra1,patch_artist=True, positions=[1], labels=['Amostra 1'],\n",
    "                   boxprops=dict(facecolor='yellow', color='black'))\n",
    "box_amostra2 = ax.boxplot(amostra2, patch_artist=True, positions=[2], labels=['Amostra 2'], \n",
    "                    boxprops=dict(facecolor='cyan', color='black'))\n",
    "#ax.set_yticks(np.arange(13, 31, 1))\n",
    "ax.yaxis.grid(color='black', alpha=0.2, linestyle='--')"
   ]
  },
  {
   "cell_type": "code",
   "execution_count": 32,
   "metadata": {
    "scrolled": true
   },
   "outputs": [
    {
     "data": {
      "image/png": "[encoded data removed]",
      "text/plain": [
       "<Figure size 864x288 with 2 Axes>"
      ]
     },
     "metadata": {
      "needs_background": "light"
     },
     "output_type": "display_data"
    }
   ],
   "source": [
    "fig, ax = plt.subplots(1,2,figsize=(12,4))\n",
    "box_amostra1 = ax[0].boxplot(amostra1, patch_artist=True, labels=['Amostra 1'],\n",
    "                   boxprops=dict(facecolor='yellow', color='black'))\n",
    "ax[0].yaxis.grid(color='black', alpha=0.2, linestyle='--')\n",
    "\n",
    "box_amostra2 = ax[1].boxplot(amostra2, patch_artist=True, labels=['Amostra 2'],\n",
    "                   boxprops=dict(facecolor='cyan', color='black'))\n",
    "ax[1].yaxis.grid(color='black', alpha=0.2, linestyle='--')"
   ]
  },
  {
   "cell_type": "markdown",
   "metadata": {},
   "source": [
    "## Correlação de Pearson\n",
    "- Nos dá o grau de correlação linear entre duas amostras/variáveis e é dada pela fórmula:\n",
    "<br>\n",
    "<img src='imagens/pearson.png' width=\"620\" height=\"300\">\n",
    "<br>\n",
    "- Seu valor varia de -1 a 1 (correlação negativa ou positiva)\n",
    "- Quando r = 1, há máxima correlação positiva, ou seja, x e y são perfeita e diretamente correlacionados\n",
    "- Quando r = -1, há máxima correlação negativa, x e y são perfeita mas inversamente correlacionados\n",
    "- Quando r = 0, não há nenhuma correlação"
   ]
  },
  {
   "cell_type": "markdown",
   "metadata": {},
   "source": [
    "<img src='https://i0.wp.com/www.abgconsultoria.com.br/blog/wp-content/uploads/img1-2.png'>"
   ]
  },
  {
   "cell_type": "code",
   "execution_count": 37,
   "metadata": {
    "scrolled": false
   },
   "outputs": [
    {
     "name": "stdout",
     "output_type": "stream",
     "text": [
      "Correlação de Pearson entre a amostra 1 e a amostra 2:\n",
      "r = 0.528781304072481\n"
     ]
    }
   ],
   "source": [
    "r = scipy.stats.pearsonr(amostra1, amostra2)[0]\n",
    "print('Correlação de Pearson entre a amostra 1 e a amostra 2:')\n",
    "print('r =',r)"
   ]
  },
  {
   "cell_type": "markdown",
   "metadata": {},
   "source": [
    "- se r >= 0.9, a correlação é muito forte\n",
    "- se r estiver entre 0.7 e 0.9, a correlação é forte\n",
    "- se r estiver entre 0.5 e 0.7, a correlação é moderada\n",
    "- se r estiver entre 0.3 e 0.5, a correlação é fraca\n",
    "- se r estiver entre 0 e 0.3, a correlação é desprezível"
   ]
  }
 ],
 "metadata": {
  "kernelspec": {
   "display_name": "Python 3",
   "language": "python",
   "name": "python3"
  },
  "language_info": {
   "codemirror_mode": {
    "name": "ipython",
    "version": 3
   },
   "file_extension": ".py",
   "mimetype": "text/x-python",
   "name": "python",
   "nbconvert_exporter": "python",
   "pygments_lexer": "ipython3",
   "version": "3.8.5"
  }
 },
 "nbformat": 4,
 "nbformat_minor": 2
}
