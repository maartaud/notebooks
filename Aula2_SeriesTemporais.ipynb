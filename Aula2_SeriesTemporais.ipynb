{
 "cells": [
  {
   "cell_type": "code",
   "execution_count": 1,
   "metadata": {},
   "outputs": [],
   "source": [
    "# importando as bibliotecas do Python que serão usadas\n",
    "import numpy as np\n",
    "import matplotlib.pyplot as plt\n",
    "import pandas as pd\n",
    "import scipy.stats\n",
    "from modulos import *\n",
    "from statsmodels.tsa.stattools import adfuller\n",
    "from statsmodels.tsa.seasonal import seasonal_decompose\n",
    "import datetime"
   ]
  },
  {
   "cell_type": "markdown",
   "metadata": {},
   "source": [
    "# Análise de Séries Temporais"
   ]
  },
  {
   "cell_type": "markdown",
   "metadata": {},
   "source": [
    "## 1. O que é uma série temporal?"
   ]
  },
  {
   "cell_type": "markdown",
   "metadata": {},
   "source": [
    "- Uma série temporal nada mais é que um conjunto de medidas de uma determinada variável ou fenômeno realizadas em sequência no tempo.\n",
    "\n",
    "### Exemplos:\n",
    "- <span style='background:yellow'>Gotas pingando em uma pia\n",
    "- <span style='background:yellow'>Variação da temperatura do ar em um período\n",
    "- <span style='background:yellow'>Produção mensal de uma fábrica\n",
    "- <span style='background:yellow'>Crescimento populacional, taxa de mortalidade e natalidade\n",
    "\n",
    "Séries temporais estão por toda parte. Tudo que sofre a ação do tempo e é suscetível a ser medido regularmente pode representar uma série temporal.\n",
    "\n",
    "<img src='time.png' width=500 align=left>"
   ]
  },
  {
   "cell_type": "markdown",
   "metadata": {},
   "source": [
    "## 2. Pra que serve uma análise de série temporal?"
   ]
  },
  {
   "cell_type": "markdown",
   "metadata": {},
   "source": [
    "- <span style='background:cyan'>Avaliar como uma variável se comporta ao longo do tempo\n",
    "- <span style='background:cyan'>Extrair padrões temporais e tendências\n",
    "- <span style='background:cyan'>Guiar a projeção de cenários futuros e construção de modelos estatísticos preditivos \n",
    "- <span style='background:cyan'>Avaliar incertezas relacionadas à variável"
   ]
  },
  {
   "cell_type": "markdown",
   "metadata": {},
   "source": [
    "## 3. Componentes"
   ]
  },
  {
   "cell_type": "markdown",
   "metadata": {},
   "source": [
    "Uma série temporal é composta de 4 componentes principais:\n",
    "- <span style='background:yellow'>Tendência\n",
    "- <span style='background:yellow'>Sazonalidade\n",
    "- <span style='background:yellow'>Ciclicidade\n",
    "- <span style='background:yellow'>Irregularidade (ou residual)\n",
    "    \n",
    "Obs: não necessariamente as séries temporais apresentam todas as componentes"
   ]
  },
  {
   "cell_type": "markdown",
   "metadata": {},
   "source": [
    "<img src='ciclo.png' width=\"600\" height=\"450\" align=left>"
   ]
  },
  {
   "cell_type": "markdown",
   "metadata": {},
   "source": [
    "### 3.1 Tendência\n",
    "- A tendência de uma série temporal é a componente que representa a <span style='background:cyan'>taxa de variação de uma variável a longo prazo</span>, podendo ser positiva, negativa ou inexistente.\n",
    "- É representada por uma reta com determinada inclinação, quanto maior essa inclinação, maior a taxa de variação no tempo.\n",
    "\n",
    "<img src='tend.png' width=\"500\" height=\"350\" align=left>"
   ]
  },
  {
   "cell_type": "markdown",
   "metadata": {},
   "source": [
    "### 3.2 Sazonalidade\n",
    "- Muitas variáveis possuem comportamento sazonal, mostrando um padrão de variabilidade dentro de um determinado intervalo de tempo que acaba se repetindo (podemos prevê-lo)\n",
    "- A distância entre um pico e outro da série temporal se mantém aproximadamente fixa\n",
    "- A chuva, por exemplo, possui um caráter bastante sazonal em boa parte do globo\n",
    "\n",
    "<img src='1.png' width=\"500\" height=\"350\" align=left>\n",
    "<img src='3.png' width=\"500\" height=\"350\" align=left>"
   ]
  },
  {
   "cell_type": "markdown",
   "metadata": {},
   "source": [
    "### 3.3 Ciclicidade\n",
    "- A ciclicidade é a componente que representa a variabilidade da série temporal <span style='background:yellow'>sem um intervalo fixo</span>\n",
    "- É o efeito de circunstâncias externas sobre a variável que se repetem em intervalos irregulares, geralmente maiores que um ano\n",
    "- A distância no intervalo de tempo entre um pico e outro é variável\n",
    "- Padrões de teleconexão como o ENSO, por exemplo, podem ser um fator de ciclicidade em uma série temporal"
   ]
  },
  {
   "cell_type": "markdown",
   "metadata": {},
   "source": [
    "### 3.4 Irregularidade\n",
    "- A componente de irregularidade representa tudo aquilo que não é explicado por nenhuma das componentes anteriores\n",
    "- É a <span style='background:cyan'>variabilidade aleatória e imprevisível</span> da série temporal de uma determinada variável, de tal forma que não se adequa a nenhum padrão no tempo.\n",
    "- É a principal fonte de incertezas sobre o fenômeno analisado\n",
    "\n",
    "<img src='1.png' width=\"500\" height=\"350\" align=left>\n",
    "<img src='res.png' width=\"500\" height=\"350\" align=left>"
   ]
  },
  {
   "cell_type": "markdown",
   "metadata": {},
   "source": [
    "## 4. Estacionariedade"
   ]
  },
  {
   "cell_type": "markdown",
   "metadata": {},
   "source": [
    "Uma série temporal é estacionária quando <span style='background:yellow'>suas propriedades estatísticas (média, variância) se mantém constante no tempo</span>, de tal forma que a média de uma variável ao longo de um período passado X é a mesma num período futuro Y mesmo se os seus valores individuais são diferentes.\n",
    "- Estacionariedade não implica que a variável não varie com o tempo\n",
    "- <span style='background:cyan'>A existência de tendência ou sazonalidade nos dados é um indicativo de não-estacionariedade</span>\n",
    "- É um requisito para muitas análises estatísticas e modelagem\n",
    "\n",
    "#### &nbsp; &nbsp; &nbsp; &nbsp; &nbsp; &nbsp; &nbsp; &nbsp; &nbsp; &nbsp; &nbsp; &nbsp; &nbsp; &nbsp; &nbsp; &nbsp; &nbsp; Série temporal estacionária &nbsp; &nbsp; &nbsp; &nbsp; &nbsp; &nbsp;&nbsp; &nbsp; &nbsp; &nbsp; &nbsp; &nbsp;&nbsp; &nbsp; &nbsp; &nbsp; &nbsp; &nbsp;&nbsp; &nbsp; &nbsp; &nbsp; &nbsp; &nbsp;&nbsp; &nbsp; &nbsp; &nbsp; &nbsp; &nbsp; &nbsp; &nbsp;&nbsp; &nbsp;&nbsp; &nbsp; &nbsp; &nbsp; &nbsp; &nbsp; Série temporal não-estacionária\n",
    "\n",
    "<img src='stat2.png' width=\"450\" height=\"350\" align=left>\n",
    "<img src='nonstat.png' width=\"450\" height=\"350\">\n"
   ]
  },
  {
   "cell_type": "markdown",
   "metadata": {},
   "source": [
    "### 4.1. Identificando se uma série é estacionária ou não"
   ]
  },
  {
   "cell_type": "markdown",
   "metadata": {},
   "source": [
    "- <span style='background:yellow'>Média móvel\n",
    "\n",
    "A média móvel pode ser uma boa medida preliminar para a identificação de tendências temporais e, por consequência, de estacionariedade. Como o proprio nome diz, a média móvel é uma média que se move ao longo da série temporal.\n",
    "\n",
    "Ao invés de usar todos os valores da série temporal para o cálculo da média, a média móvel é o resultado das várias médias de pequenos intervalos temporais sucessivos dentro da série."
   ]
  },
  {
   "cell_type": "markdown",
   "metadata": {},
   "source": [
    "<img src='mms2.png' width=500 align=left>"
   ]
  },
  {
   "cell_type": "markdown",
   "metadata": {},
   "source": [
    "- <span style='background:cyan'>Avaliar as estatísticas pra diferentes porções da série temporal:"
   ]
  },
  {
   "cell_type": "code",
   "execution_count": 235,
   "metadata": {},
   "outputs": [
    {
     "name": "stdout",
     "output_type": "stream",
     "text": [
      "Médias: [24.0216384863124, 21.849839743589744, 17.696969696969692, 14.215064102564101]\n",
      "Variâncias: [3.2195390709730125, 5.1012111666247675, 10.074044788159371, 15.708029108010729]\n",
      "\n",
      "Percebam as diferenças das estatísticas entre as diferentes porções da série!\n"
     ]
    }
   ],
   "source": [
    "# Posso dividir minha série temporal acima em 4 partes, calcular as estatísticas pra cada uma delas e comparar\n",
    "\n",
    "medias = [temp[:54].mean(), temp[53:105].mean(), temp[105:160].mean(), temp[160:].mean()]\n",
    "var = [temp[:54].var(), temp[53:105].var(), temp[105:160].var(), temp[160:].var()]\n",
    "\n",
    "print('Médias:',medias)\n",
    "print('Variâncias:',var)\n",
    "print('')\n",
    "print('Percebam as diferenças das estatísticas entre as diferentes porções da série!')"
   ]
  },
  {
   "cell_type": "markdown",
   "metadata": {},
   "source": [
    "- <span style='background:yellow'>Testes estatísticos (teste de Dickey-Fuller)"
   ]
  },
  {
   "cell_type": "markdown",
   "metadata": {},
   "source": [
    "### 4.2. Transformando séries não-estacionárias em estacionárias"
   ]
  },
  {
   "cell_type": "markdown",
   "metadata": {},
   "source": [
    "Dois métodos são bastante comuns para transformar uma série não-estacionária em uma série onde podemos assumir estacionariedade:\n",
    "\n",
    "- Remoção das componentes de tendência e sazonalidade\n",
    "- Diferenciação da série temporal"
   ]
  },
  {
   "cell_type": "markdown",
   "metadata": {},
   "source": [
    "#### 4.2.1 Remoção da tendência e sazonalidade"
   ]
  },
  {
   "cell_type": "markdown",
   "metadata": {},
   "source": [
    "O primeiro passo é avaliar se a série temporal segue o modelo aditivo, onde a variabilidade da variável ao longo do tempo é linear; ou o modelo multiplicativo, onde a variabilidade é não-linear (exponencial, logarítmica, etc.) \n",
    "\n",
    "<span style='background:cyan'>Se aditivo:\n",
    "- A série temporal Y(t) é resultado da soma entre as componentes de tendência (T), sazonalidade (S), ciclicidade (C) e irregularidade (I) \n",
    "- Y(t) = T + S + C + I\n",
    "\n",
    "<span style='background:cyan'>Se multiplicativo:\n",
    "- A série temporal Y(t) é resultado da multiplicação entre as componentes de tendência (T), sazonalidade (S), ciclicidade (C) e irregularidade (I)\n",
    "- Y(t) = T x S x C x I\n",
    "\n",
    "<span style='background:yellow'>Nos casos mais comuns de séries temporais dentro da área de meteorologia e climatologia, assume-se o modelo aditivo.\n",
    "    \n",
    "#### Logo:\n",
    "- De maneira geral, para remover qualquer componente basta isolar e subtrair esta componente da série de dados."
   ]
  },
  {
   "cell_type": "markdown",
   "metadata": {},
   "source": [
    "#### 4.2.1.1 Removendo a tendência pela média móvel"
   ]
  },
  {
   "cell_type": "code",
   "execution_count": 26,
   "metadata": {
    "scrolled": true
   },
   "outputs": [],
   "source": [
    "# Aqui, simplesmente subtraímos a média móvel de 20 dias calculada da série temporal\n",
    "media_movel = temp.rolling(window=20).mean()\n",
    "notrend = (temp - media_movel)"
   ]
  },
  {
   "cell_type": "markdown",
   "metadata": {},
   "source": [
    "<img src='mms2.png' width=460 align=left><img src='notrend5.png' width=460>"
   ]
  },
  {
   "cell_type": "markdown",
   "metadata": {},
   "source": [
    "#### 4.2.1.2 Removendo a sazonalidade"
   ]
  },
  {
   "cell_type": "markdown",
   "metadata": {},
   "source": [
    "Podemos remover a sazonalidade calculando o ciclo médio anual (a partir da série sem tendência) e o subtraindo da série temporal."
   ]
  },
  {
   "cell_type": "code",
   "execution_count": 13,
   "metadata": {},
   "outputs": [],
   "source": [
    "ciclo_anual = notrend3.groupby(notrend3.index.dayofyear).transform('mean')\n",
    "noseason = temp - ciclo_anual\n",
    "\n",
    "noseason_notrend = (noseason - noseason.rolling(window=365).mean()) # remove sazonalidade e tendência"
   ]
  },
  {
   "cell_type": "markdown",
   "metadata": {},
   "source": [
    "<img src='tudo.png' width=460 align=left><img src='noseason6.png' width=460>"
   ]
  },
  {
   "cell_type": "markdown",
   "metadata": {},
   "source": [
    "## 5. Modelo de regressão linear simples"
   ]
  },
  {
   "cell_type": "markdown",
   "metadata": {},
   "source": [
    "Muitas vezes queremos entender o grau em que uma determinada variável influencia na variabilidade de outra. Conhecendo essa ligação podemos construir modelos para estimar valores futuros e, a partir daí, uma série de aplicações práticas surgem.\n",
    "- A regressão linear descreve a relação entre duas variáveis x (variável independente) e y (variável dependente), linearmente\n",
    "- Procura resumir essa relação através de uma reta com determinada inclinação\n",
    "- Essa reta é dada pela fórmula <span style='background:cyan'>ŷ = a + bx</span> e representa o modelo linear capaz de prever ŷ contendo o menor erro possível\n",
    "    - ŷ é o valor estimado de y\n",
    "    - o coeficiente 'a' é o ponto de intesercção da reta com o eixo y\n",
    "    - o coeficiente 'b' é a medida de inclinação da reta\n",
    "- A diferença entre o valor observado (y) e o valor estimado (ŷ) na série é chamada de erro (e), ou resíduo, e representa a variação de y não conhecida/explicada pelo modelo. Quanto menor os valores dos erros, ou seja, quanto menor a distância entre ŷ e y, melhor é o modelo em representar a relação entre as duas variáveis.\n",
    "    \n",
    "<img src='model.png' width=460 align=left>"
   ]
  },
  {
   "cell_type": "markdown",
   "metadata": {},
   "source": [
    "### 5.1 Método dos mínimos quadrados"
   ]
  },
  {
   "cell_type": "markdown",
   "metadata": {},
   "source": [
    "Para se encontrar a reta ŷ = a + bx, um dos métodos mais utilizados é o método dos mínimos quadrados. \n",
    "\n",
    "Este método procura calcular a melhor reta (reta de melhor ajuste) para um determinado conjunto de dados minimizando a soma dos quadrados dos erros/resíduos (e).\n",
    "\n",
    "Os coeficientes 'a' e 'b' são calculados a partir das fórmulas abaixo:\n",
    "\n",
    "<img src='b.png' width=250><img src='a.png' width=150>\n",
    "\n",
    "- onde x-barra e y-barra representam as médias de x e y, respectivamente."
   ]
  },
  {
   "cell_type": "code",
   "execution_count": 2,
   "metadata": {},
   "outputs": [],
   "source": [
    "# Vamos supor que eu tenha os seguintes conjuntos de dados\n",
    "# onde a variavel independente é a pressão ao nível médio do mar (hPa) e a dependente é a temperatura do ar em superfície (°C):\n",
    "\n",
    "temp = [26.1,24.5,24.8,24.5,24.1,24.3,26.4,24.9,23.7,23.5,24.0,24.1,23.7,24.3,26.6,24.6,24.8,24.4,26.8,25.2]\n",
    "pressao = [1009.5,1010.9,1010.7,1011.2,1011.9,1011.2,1009.3,1011.1,1012.0,1011.4,1010.9,1011.5,1011.0,1011.2,1009.9,1012.5,1011.1,1011.8,1009.3,1010.6]\n",
    "\n",
    "temp_media = np.mean(temp)\n",
    "pressao_media = np.mean(pressao)"
   ]
  },
  {
   "cell_type": "code",
   "execution_count": 3,
   "metadata": {
    "scrolled": false
   },
   "outputs": [
    {
     "name": "stdout",
     "output_type": "stream",
     "text": [
      "a = 959.7734806254197\n",
      "b = -0.9248810333106681\n",
      "======================================\n",
      "Logo, a reta do modelo linear fica:\n",
      "======================================\n",
      "y = 959.773 -0.925x\n",
      "======================================\n"
     ]
    },
    {
     "data": {
      "image/png": "[encoded data removed]",
      "text/plain": [
       "<Figure size 432x288 with 1 Axes>"
      ]
     },
     "metadata": {
      "needs_background": "light"
     },
     "output_type": "display_data"
    }
   ],
   "source": [
    "# Se calcularmos os coeficientes \"a\" e \"b\" para a reta ŷ = a + bx, teríamos o resultado:\n",
    "model(pressao,temp)"
   ]
  },
  {
   "cell_type": "markdown",
   "metadata": {},
   "source": [
    "#### <span style='background:yellow'>Podemos fazer o mesmo processo para séries temporais, onde a variável independente X é o tempo (em dias, meses ou anos):"
   ]
  },
  {
   "cell_type": "markdown",
   "metadata": {},
   "source": [
    "<img src='modelos.png' width=1000 align=left>"
   ]
  },
  {
   "cell_type": "markdown",
   "metadata": {},
   "source": [
    "#### A reta de regressão linear também pode ser usada para remover a tendência dos dados, da mesma forma que a média móvel!"
   ]
  },
  {
   "cell_type": "code",
   "execution_count": 198,
   "metadata": {},
   "outputs": [],
   "source": [
    "x = np.arange(temp_2015.size)\n",
    "fit = np.polyfit(x, temp_2015, 1)\n",
    "fit_fn = np.poly1d(fit)\n",
    "\n",
    "notrend_2015 = (temp_2015 - fit_fn(x))"
   ]
  },
  {
   "cell_type": "markdown",
   "metadata": {},
   "source": [
    "<img src='notrend_model.png' width=500 align=left>"
   ]
  },
  {
   "cell_type": "markdown",
   "metadata": {},
   "source": [
    "### 5.2 Avaliando a qualidade de ajuste do modelo\n",
    "<span style='background:cyan'>Coeficiente de Determinação (R²)"
   ]
  },
  {
   "cell_type": "markdown",
   "metadata": {},
   "source": [
    "- R² pode ser interpretado como a proporção da variabilidade dos dados que pode ser representada pelo modelo linear.\n",
    "- É calculado pela razão entre a soma dos erros (resíduos) ao quadrado e a soma das diferenças ao quadrado entre cada valor de y observado e a média de y:\n",
    "\n",
    "<img src='rquadrado6.png' width=220><img src='erro.png' width=150>\n",
    "\n",
    "- Quanto mais próximo de 1 é o R², melhor é o ajuste do modelo.\n",
    "\n"
   ]
  },
  {
   "cell_type": "code",
   "execution_count": 4,
   "metadata": {},
   "outputs": [],
   "source": [
    "def r2(x,y): #calcula o R²\n",
    "    if (type(x) is pd.core.indexes.datetimes.DatetimeIndex) or (type(x) is datetime.datetime) or (type(x) is pandas.Timestamp):\n",
    "        x = list(range(1,len(x)+1,1))\n",
    "    y_mean = np.mean(y)\n",
    "    fit = np.polyfit(x,y,1)\n",
    "    fit_fn = np.poly1d(fit)\n",
    "\n",
    "    nominador = []\n",
    "    denominador = []\n",
    "    for yi,yx in zip(y,fit_fn(x)): \n",
    "        nominador.append((yi-yx)**2)\n",
    "        denominador.append((yi-y_mean)**2)\n",
    "    c2 = np.sum(nominador)\n",
    "    d2 = np.sum(denominador)\n",
    "    r_quadrado = 1 - (c2/d2)\n",
    "    if (r_quadrado <= 1e-3):\n",
    "        r_quadrado = 0\n",
    "    return r_quadrado"
   ]
  },
  {
   "cell_type": "code",
   "execution_count": 9,
   "metadata": {},
   "outputs": [
    {
     "data": {
      "text/plain": [
       "(0.5892167599173932, 0)"
      ]
     },
     "execution_count": 9,
     "metadata": {},
     "output_type": "execute_result"
    }
   ],
   "source": [
    "# passando os meus dados de 2015 e total para a função r² acima:\n",
    "r2(data_2015,temp_2015), r2(data,temp)"
   ]
  }
 ],
 "metadata": {
  "kernelspec": {
   "display_name": "Python 3",
   "language": "python",
   "name": "python3"
  },
  "language_info": {
   "codemirror_mode": {
    "name": "ipython",
    "version": 3
   },
   "file_extension": ".py",
   "mimetype": "text/x-python",
   "name": "python",
   "nbconvert_exporter": "python",
   "pygments_lexer": "ipython3",
   "version": "3.8.5"
  }
 },
 "nbformat": 4,
 "nbformat_minor": 4
}
